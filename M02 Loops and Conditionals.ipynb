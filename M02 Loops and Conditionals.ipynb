{
 "cells": [
  {
   "cell_type": "code",
   "execution_count": 4,
   "id": "f3c337a8",
   "metadata": {},
   "outputs": [
    {
     "name": "stdout",
     "output_type": "stream",
     "text": [
      "too low!\n"
     ]
    }
   ],
   "source": [
    "secret = 6\n",
    "guess = 3\n",
    "if guess == secret:\n",
    "    print(\"Just right!\")\n",
    "elif guess > secret:\n",
    "    print(\"too high!\")\n",
    "else: print(\"too low!\")"
   ]
  },
  {
   "cell_type": "code",
   "execution_count": 6,
   "id": "6cff9a50",
   "metadata": {},
   "outputs": [
    {
     "name": "stdout",
     "output_type": "stream",
     "text": [
      "It's a cherry!\n"
     ]
    }
   ],
   "source": [
    "small = True\n",
    "green = False\n",
    "if small == True and green == True:\n",
    "    print(\"Its a pea!\")\n",
    "elif small == True and green != True:\n",
    "    print(\"It's a cherry!\")\n",
    "elif small != True and green == True:\n",
    "    print(\"It's a watermelon!\")\n",
    "else: print(\"It's a pumpkin!\")\n"
   ]
  },
  {
   "cell_type": "code",
   "execution_count": 9,
   "id": "3ac427a3",
   "metadata": {},
   "outputs": [
    {
     "name": "stdout",
     "output_type": "stream",
     "text": [
      "Too low!\n",
      "Too low!\n",
      "Too low!\n",
      "Too low!\n",
      "Too low!\n",
      "Too low!\n",
      "Too low!\n",
      "Found it!\n"
     ]
    }
   ],
   "source": [
    "guess_me = 7\n",
    "number = 1\n",
    "while number <= guess_me:\n",
    "    print(\"Too low!\")\n",
    "    if number == guess_me:\n",
    "        print (\"Found it!\")\n",
    "        break\n",
    "    number += 1"
   ]
  },
  {
   "cell_type": "code",
   "execution_count": 10,
   "id": "106f01e1",
   "metadata": {},
   "outputs": [
    {
     "name": "stdout",
     "output_type": "stream",
     "text": [
      "3\n",
      "2\n",
      "1\n",
      "0\n"
     ]
    }
   ],
   "source": [
    "list = [3, 2, 1, 0]\n",
    "for i in list:\n",
    "    print(i)"
   ]
  },
  {
   "cell_type": "code",
   "execution_count": 11,
   "id": "88cdb26c",
   "metadata": {},
   "outputs": [
    {
     "name": "stdout",
     "output_type": "stream",
     "text": [
      "too low!\n",
      "too low!\n",
      "too low!\n",
      "too low!\n",
      "too low!\n",
      "found it\n",
      "oops\n",
      "oops\n",
      "oops\n",
      "oops\n"
     ]
    }
   ],
   "source": [
    "guess_me = 5\n",
    "number = 1\n",
    "for number in range(10):\n",
    "    if number < guess_me:\n",
    "        print(\"too low!\")\n",
    "    elif number == guess_me:\n",
    "        print(\"found it\")\n",
    "    elif number > guess_me:\n",
    "        print(\"oops\")\n"
   ]
  },
  {
   "cell_type": "code",
   "execution_count": null,
   "id": "63808514",
   "metadata": {},
   "outputs": [],
   "source": []
  }
 ],
 "metadata": {
  "kernelspec": {
   "display_name": "Python 3 (ipykernel)",
   "language": "python",
   "name": "python3"
  },
  "language_info": {
   "codemirror_mode": {
    "name": "ipython",
    "version": 3
   },
   "file_extension": ".py",
   "mimetype": "text/x-python",
   "name": "python",
   "nbconvert_exporter": "python",
   "pygments_lexer": "ipython3",
   "version": "3.10.9"
  }
 },
 "nbformat": 4,
 "nbformat_minor": 5
}
